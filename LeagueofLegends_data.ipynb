{
 "cells": [
  {
   "cell_type": "markdown",
   "metadata": {},
   "source": [
    "https://pypi.org/project/leagueoflegends/ || https://developer.riotgames.com/apis"
   ]
  },
  {
   "cell_type": "raw",
   "metadata": {},
   "source": [
    "WHAT I WANT TO SCRAP (THIS IS INFO PER MATCH):\n",
    "    *SUMMONER_NAME\n",
    "     *WIN OR LOSE\n",
    "    *RANK\n",
    "    *CHAMPION\n",
    "    *KDA\n",
    "    *KDA \n",
    "    *FARM"
   ]
  },
  {
   "cell_type": "code",
   "execution_count": 1,
   "metadata": {},
   "outputs": [],
   "source": [
    "import requests \n",
    "import pandas as pd\n",
    "import numpy as np\n",
    "from selenium import webdriver\n",
    "from selenium.webdriver.common.keys import Keys\n",
    "from selenium.webdriver import ActionChains\n",
    "import time\n",
    "import logging"
   ]
  },
  {
   "cell_type": "code",
   "execution_count": 2,
   "metadata": {},
   "outputs": [],
   "source": [
    "#random header generator\n",
    "def get_random_ua():\n",
    "    random_ua = ''\n",
    "    ua_file = 'ua_file.txt'\n",
    "    try:\n",
    "        with open(ua_file) as f:\n",
    "            lines = f.readlines()\n",
    "        if len(lines) > 0:\n",
    "            prng = np.random.RandomState()\n",
    "            index = prng.permutation(len(lines) - 1)\n",
    "            idx = np.asarray(index, dtype=np.integer)[0]\n",
    "            random_ua = lines[int(idx)]\n",
    "    except Exception as ex:\n",
    "        print('Exception in random_ua')\n",
    "        print(str(ex))\n",
    "    finally:\n",
    "        return random_ua.rstrip()"
   ]
  },
  {
   "cell_type": "code",
   "execution_count": 71,
   "metadata": {},
   "outputs": [],
   "source": [
    "def check_exists_by_css(css):\n",
    "    try:\n",
    "        driver.find_element_by_css_selector(css)\n",
    "    except:\n",
    "        return False\n",
    "    return True"
   ]
  },
  {
   "cell_type": "code",
   "execution_count": 162,
   "metadata": {},
   "outputs": [],
   "source": [
    "def lographs_htmlScrapper(summoner):\n",
    "        driver = webdriver.Edge('C:\\Git Projects\\edgedriver_win64\\msedgedriver.exe')\n",
    "        driver.get(\"https://www.leagueofgraphs.com/summoner/lan/\" + summoner)\n",
    "        \n",
    "        menu = driver.find_element_by_css_selector('a[data-dropdown=\"drop-queueTypes-recentgames\"]')\n",
    "        menu_item = driver.find_element_by_css_selector('a[data-additional-queue-id=\"420\"]')\n",
    "        ActionChains(driver).click(menu).click(menu_item).send_keys(Keys.END).perform() #select option from menu\n",
    "        time.sleep(3)\n",
    "                    #while button exists get more matches \n",
    "        while(True): \n",
    "            button_css = 'button[class=\"see_more_ajax_button\"]'\n",
    "            if driver.find_elements_by_css_selector(button_css):\n",
    "                button = driver.find_element_by_css_selector(button_css)\n",
    "                ActionChains(driver).click(button).send_keys(Keys.END).perform()\n",
    "                time.sleep(np.random.randint(5))\n",
    "            else:\n",
    "                break\n",
    "                \n",
    "        page_source = driver.page_source\n",
    "        driver.close()\n",
    "        return page_source"
   ]
  },
  {
   "cell_type": "code",
   "execution_count": 163,
   "metadata": {},
   "outputs": [],
   "source": [
    "def create_dataframe(summoners):\n",
    "    matches = []\n",
    "    for summoner in summoners:\n",
    "            match = pd.read_html(lographs_htmlScrapper(summoner))[0]\n",
    "            match = match.iloc[:,[3,4]]\n",
    "            match.columns = ['Result','Score']\n",
    "            matches.append(match)\n",
    "            \n",
    "    return matches"
   ]
  },
  {
   "cell_type": "code",
   "execution_count": 173,
   "metadata": {},
   "outputs": [],
   "source": [
    "summoners = [\"Lopso\",\"Cosa\",\"WeIinton Quiw\", \"Rudon\", \"El Brayayin\", \"Twitch Bejjaniii\", \"Eipa\", \"Don Miguel\", \"Aggression\", \"DiaCraOne\", \"IvanRomeroEnFB\"]"
   ]
  },
  {
   "cell_type": "code",
   "execution_count": 178,
   "metadata": {},
   "outputs": [
    {
     "data": {
      "text/html": [
       "<div>\n",
       "<style scoped>\n",
       "    .dataframe tbody tr th:only-of-type {\n",
       "        vertical-align: middle;\n",
       "    }\n",
       "\n",
       "    .dataframe tbody tr th {\n",
       "        vertical-align: top;\n",
       "    }\n",
       "\n",
       "    .dataframe thead th {\n",
       "        text-align: right;\n",
       "    }\n",
       "</style>\n",
       "<table border=\"1\" class=\"dataframe\">\n",
       "  <thead>\n",
       "    <tr style=\"text-align: right;\">\n",
       "      <th></th>\n",
       "      <th>Result</th>\n",
       "      <th>Score</th>\n",
       "    </tr>\n",
       "  </thead>\n",
       "  <tbody>\n",
       "    <tr>\n",
       "      <th>0</th>\n",
       "      <td>Defeat  Soloqueue</td>\n",
       "      <td>0  /  4  /  4  21 CS - 40% Kills P.</td>\n",
       "    </tr>\n",
       "    <tr>\n",
       "      <th>1</th>\n",
       "      <td>Victory  Soloqueue</td>\n",
       "      <td>4  /  0  /  12  41 CS - 48% Kills P.</td>\n",
       "    </tr>\n",
       "    <tr>\n",
       "      <th>2</th>\n",
       "      <td>Defeat  Soloqueue</td>\n",
       "      <td>2  /  4  /  2  101 CS - 57% Kills P.</td>\n",
       "    </tr>\n",
       "    <tr>\n",
       "      <th>3</th>\n",
       "      <td>Defeat  Soloqueue</td>\n",
       "      <td>5  /  6  /  17  39 CS - 65% Kills P.</td>\n",
       "    </tr>\n",
       "    <tr>\n",
       "      <th>4</th>\n",
       "      <td>Victory  Soloqueue</td>\n",
       "      <td>4  /  6  /  17  24 CS - 60% Kills P.</td>\n",
       "    </tr>\n",
       "    <tr>\n",
       "      <th>...</th>\n",
       "      <td>...</td>\n",
       "      <td>...</td>\n",
       "    </tr>\n",
       "    <tr>\n",
       "      <th>95</th>\n",
       "      <td>Defeat  Soloqueue</td>\n",
       "      <td>1  /  5  /  5  92 CS - 50% Kills P.</td>\n",
       "    </tr>\n",
       "    <tr>\n",
       "      <th>96</th>\n",
       "      <td>Victory  Soloqueue</td>\n",
       "      <td>2  /  2  /  5  104 CS - 44% Kills P.</td>\n",
       "    </tr>\n",
       "    <tr>\n",
       "      <th>97</th>\n",
       "      <td>Victory  Soloqueue</td>\n",
       "      <td>7  /  1  /  9  179 CS - 36% Kills P.</td>\n",
       "    </tr>\n",
       "    <tr>\n",
       "      <th>98</th>\n",
       "      <td>Victory  Soloqueue</td>\n",
       "      <td>2  /  2  /  8  110 CS - 33% Kills P.</td>\n",
       "    </tr>\n",
       "    <tr>\n",
       "      <th>99</th>\n",
       "      <td>Victory  Soloqueue</td>\n",
       "      <td>5  /  11  /  14  204 CS - 51% Kills P.</td>\n",
       "    </tr>\n",
       "  </tbody>\n",
       "</table>\n",
       "<p>100 rows × 2 columns</p>\n",
       "</div>"
      ],
      "text/plain": [
       "                Result                                   Score\n",
       "0    Defeat  Soloqueue     0  /  4  /  4  21 CS - 40% Kills P.\n",
       "1   Victory  Soloqueue    4  /  0  /  12  41 CS - 48% Kills P.\n",
       "2    Defeat  Soloqueue    2  /  4  /  2  101 CS - 57% Kills P.\n",
       "3    Defeat  Soloqueue    5  /  6  /  17  39 CS - 65% Kills P.\n",
       "4   Victory  Soloqueue    4  /  6  /  17  24 CS - 60% Kills P.\n",
       "..                 ...                                     ...\n",
       "95   Defeat  Soloqueue     1  /  5  /  5  92 CS - 50% Kills P.\n",
       "96  Victory  Soloqueue    2  /  2  /  5  104 CS - 44% Kills P.\n",
       "97  Victory  Soloqueue    7  /  1  /  9  179 CS - 36% Kills P.\n",
       "98  Victory  Soloqueue    2  /  2  /  8  110 CS - 33% Kills P.\n",
       "99  Victory  Soloqueue  5  /  11  /  14  204 CS - 51% Kills P.\n",
       "\n",
       "[100 rows x 2 columns]"
      ]
     },
     "execution_count": 178,
     "metadata": {},
     "output_type": "execute_result"
    }
   ],
   "source": [
    "matches[10]"
   ]
  },
  {
   "cell_type": "code",
   "execution_count": null,
   "metadata": {},
   "outputs": [],
   "source": []
  }
 ],
 "metadata": {
  "kernelspec": {
   "display_name": "Python 3.7 (tensorflow)",
   "language": "python",
   "name": "tensorflow"
  },
  "language_info": {
   "codemirror_mode": {
    "name": "ipython",
    "version": 3
   },
   "file_extension": ".py",
   "mimetype": "text/x-python",
   "name": "python",
   "nbconvert_exporter": "python",
   "pygments_lexer": "ipython3",
   "version": "3.7.7"
  }
 },
 "nbformat": 4,
 "nbformat_minor": 4
}
