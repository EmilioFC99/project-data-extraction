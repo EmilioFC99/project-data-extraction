{
 "cells": [
  {
   "cell_type": "code",
   "execution_count": 77,
   "metadata": {},
   "outputs": [],
   "source": [
    "import requests \n",
    "import pandas as pd\n",
    "import numpy as np\n",
    "import time\n",
    "import logging\n",
    "import re\n",
    "\n",
    "from selenium import webdriver\n",
    "from selenium.webdriver.common.keys import Keys\n",
    "from selenium.webdriver import ActionChains\n",
    "from bs4 import BeautifulSoup"
   ]
  },
  {
   "cell_type": "code",
   "execution_count": 78,
   "metadata": {},
   "outputs": [],
   "source": [
    "logging.basicConfig(filename='lol_data.log', \n",
    "                    encoding='utf-8', \n",
    "                    level=logging.DEBUG)"
   ]
  },
  {
   "cell_type": "code",
   "execution_count": 79,
   "metadata": {},
   "outputs": [],
   "source": [
    "#function that gets the html of all solo queue matches from league of Graphs of a given summoner\n",
    "def lographs_htmlScrapper(summoner):\n",
    "        driver = webdriver.Edge('C:\\Git Projects\\edgedriver_win64\\msedgedriver.exe')\n",
    "        driver.get(\"https://www.leagueofgraphs.com/summoner/lan/\" + summoner)\n",
    "        \n",
    "        menu = driver.find_element_by_css_selector('a[data-dropdown=\"drop-queueTypes-recentgames\"]')\n",
    "        menu_item = driver.find_element_by_css_selector('a[data-additional-queue-id=\"420\"]')\n",
    "        ActionChains(driver).click(menu).pause(1).click(menu_item).pause(1)\\\n",
    "                            .send_keys(Keys.END).pause(np.random.randint(4)).perform()        #select option from menu\n",
    "                    #while button exists get more matches \n",
    "        button_css = 'button[class=\"see_more_ajax_button\"]'\n",
    "        logging.debug(\"Getting data from the page..\")\n",
    "        while(True): \n",
    "            try:            \n",
    "                button = driver.find_element_by_css_selector(button_css)\n",
    "                ActionChains(driver).click(button).pause(np.random.randint(4)).send_keys(Keys.END).pause(1).perform()\n",
    "            except:\n",
    "                print(f'{summoner}: No more matches')\n",
    "                break\n",
    "                \n",
    "        page_source = driver.page_source\n",
    "        driver.close()\n",
    "        return page_source"
   ]
  },
  {
   "cell_type": "code",
   "execution_count": 80,
   "metadata": {},
   "outputs": [],
   "source": [
    "#function that takes a list of summoner names and creates a list of dataframes for each summoner in the lis\n",
    "def create_dataframe(summoners):\n",
    "    match_history = []\n",
    "    logging.debug(\"Creating a dataframe for each summoner...\")\n",
    "    for summoner in summoners:\n",
    "            html = lographs_htmlScrapper(summoner) #getting the pagesource of the player\n",
    "            matches = pd.read_html(html)[0] #there are many tables in the page, we only want the first\n",
    "            matches = matches.iloc[:,[2,4]] #take the columns we need\n",
    "            matches.insert(0,'Summoner Name', str(summoner), True)\n",
    "            matches.columns = ['Summoner Name','Result','Score']\n",
    "            match_history.append(matches)\n",
    "            \n",
    "    return match_history"
   ]
  },
  {
   "cell_type": "code",
   "execution_count": 81,
   "metadata": {},
   "outputs": [],
   "source": [
    "#As re.findall returns a list we need to get the data of each list, this functions does that\n",
    "def data_from_list(lst):\n",
    "    temp = []\n",
    "    logging.debug(\"Getting the data from the lists...\")\n",
    "    for a in lst:\n",
    "        for b in a:\n",
    "            temp.append(re.sub(\"\\s+\",\"\",b))\n",
    "    return temp"
   ]
  },
  {
   "cell_type": "code",
   "execution_count": 82,
   "metadata": {},
   "outputs": [],
   "source": [
    "#the function create_dataframe only create a df without separating the info, we do that here\n",
    "def df_cleaning(df):\n",
    "    results = [item.lstrip() for item in df['Result'] if type(item) == str]\n",
    "    score = [item.lstrip() for item in df['Score'] if type(item) == str]\n",
    "    status = []\n",
    "    date = []\n",
    "    duration= []\n",
    "    kda =[]\n",
    "    cs = []\n",
    "    k = []\n",
    "    d=[]\n",
    "    a=[]\n",
    "    s=[]\n",
    "    \n",
    "    logging.debug(\"Getting the data from the dataframes and creating columns for each data...\")\n",
    "    for result,score in zip(results,score):\n",
    "        status.append(re.findall(r'^(Defeat|Victory|Remake)',result))\n",
    "        date.append(re.findall(r'\\d+ days ago',result))\n",
    "        duration.append(re.findall(r'\\d+min',result))\n",
    "        \n",
    "        s.append(re.findall(r'\\d+\\s+/\\s+\\d+\\s+/\\s+\\d+',score))\n",
    "        cs.append(re.findall(r'\\d+ CS',score))\n",
    "                   \n",
    "    status = data_from_list(status)\n",
    "    date = data_from_list(date)\n",
    "    duration= data_from_list(duration)\n",
    "    s = data_from_list(s)\n",
    "    cs =  data_from_list(cs)\n",
    "    \n",
    "    for item in s:\n",
    "        temp = re.findall(r'\\d+',item)\n",
    "        x=int(temp[0])\n",
    "        y=int(temp[1])\n",
    "        z=int(temp[2])\n",
    "        k.append(x)\n",
    "        d.append(y)\n",
    "        a.append(z)\n",
    "        if y ==0:        \n",
    "            kda.append(round(((x+z)/1),2))\n",
    "        else:\n",
    "            kda.append(round(((x+z)/y),2))\n",
    "        \n",
    "    new_df = pd.DataFrame(list(zip(status,date,duration,k,d,a,kda,cs))) \n",
    "    new_df.insert(0,'Summoner Name', df['Summoner Name'], True)\n",
    "    new_df.columns = [\"Summoner Name\",\"W/L\", \"Date\" , \"Duration\" ,\"K\" ,\"D\",\"A\",\"KDA\", \"CS\"]\n",
    "    new_df.drop(new_df[new_df['W/L'] == \"Remake\"].index, inplace = True)\n",
    "    new_df = new_df.reset_index(drop=True)\n",
    "    return new_df"
   ]
  },
  {
   "cell_type": "code",
   "execution_count": 83,
   "metadata": {},
   "outputs": [],
   "source": [
    "#function that takes a list of dataframes, and a list of names and saves each data frame with the names\n",
    "def save_dataframes(dataframes, names):\n",
    "    for dataframe, name in zip(dataframes, names):\n",
    "        if ' ' in name:\n",
    "            name = re.sub(' ','_',name)           \n",
    "        dataframe.to_csv(f'match_histories/{name}_soloq_match_history.csv', index = False)"
   ]
  },
  {
   "cell_type": "code",
   "execution_count": 84,
   "metadata": {},
   "outputs": [],
   "source": [
    "def get_matchistories(summoners):\n",
    "    match_history = create_dataframe(summoners)\n",
    "    clean_match_history = []\n",
    "    df = pd.DataFrame()\n",
    "\n",
    "    for match in match_history: #cleaning dataframes\n",
    "        m = df_cleaning(match)\n",
    "        clean_match_history.append(m)\n",
    "        df = df.append(m).reset_index(drop=True)\n",
    "     \n",
    "    try: #saving those dataframes\n",
    "        save_dataframes(clean_match_history, summoners)\n",
    "        logging.info('Dataframes saved!')\n",
    "        df.to_csv(f'match_histories/all_soloq_match_history.csv', index = False)\n",
    "    except:\n",
    "        logging.exception('An Exception ocurred:')"
   ]
  },
  {
   "cell_type": "markdown",
   "metadata": {},
   "source": [
    "# And it all comes down to this"
   ]
  },
  {
   "cell_type": "code",
   "execution_count": 85,
   "metadata": {},
   "outputs": [],
   "source": [
    "summoners = [\"Lopso\",\"Cosa\",\"WeIinton Quiw\", \"Rudon\", \"El Brayayin\", \n",
    "             \"Twitch Bejjaniii\", \"Eipa\", \"Don Miguel\", \"Aggression\", \"DiaCraOne\", \"IvanRomeroEnFB\",\n",
    "            \"William Kurt\", \"Sexy Muffin\", \" T O X I C B O Y\", \"5568882336\", \"sneik9210\", \"lumaxile\", \n",
    "             \"skarskarSkarner\", \"Lixiu\", \"De Dya\", \"Rage\", \"EI ritardo\"]"
   ]
  },
  {
   "cell_type": "code",
   "execution_count": 87,
   "metadata": {},
   "outputs": [
    {
     "name": "stdout",
     "output_type": "stream",
     "text": [
      "EI ritardo: No more matches\n"
     ]
    }
   ],
   "source": [
    "#recibe una lista\n",
    "get_matchistories(summoners)"
   ]
  }
 ],
 "metadata": {
  "kernelspec": {
   "display_name": "Python 3.7 (tensorflow)",
   "language": "python",
   "name": "tensorflow"
  },
  "language_info": {
   "codemirror_mode": {
    "name": "ipython",
    "version": 3
   },
   "file_extension": ".py",
   "mimetype": "text/x-python",
   "name": "python",
   "nbconvert_exporter": "python",
   "pygments_lexer": "ipython3",
   "version": "3.7.7"
  }
 },
 "nbformat": 4,
 "nbformat_minor": 4
}
